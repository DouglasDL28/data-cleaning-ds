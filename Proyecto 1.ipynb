{
 "cells": [
  {
   "cell_type": "markdown",
   "id": "d6f81f87",
   "metadata": {},
   "source": [
    "Importar Librerías"
   ]
  },
  {
   "cell_type": "code",
   "execution_count": 5,
   "id": "db689911",
   "metadata": {},
   "outputs": [],
   "source": [
    "import pandas as pd"
   ]
  },
  {
   "cell_type": "code",
   "execution_count": 31,
   "id": "1b099cec",
   "metadata": {},
   "outputs": [],
   "source": [
    "ALTA_VERAPAZ = pd.read_csv(r'data\\ALTA_VERAPAZ.csv', keep_default_na=True)\n",
    "BAJA_VERAPAZ = pd.read_csv(r'data\\BAJA_VERAPAZ.csv', keep_default_na=True)\n",
    "CHIMALTENANGO = pd.read_csv(r'data\\CHIMALTENANGO.csv', keep_default_na=True)\n",
    "CHIQUIMULA = pd.read_csv(r'data\\CHIQUIMULA.csv', keep_default_na=True)\n",
    "CUIDAD_CAPITAL = pd.read_csv(r'data\\CUIDAD_CAPITAL.csv', keep_default_na=True)\n",
    "EL_PROGRESO = pd.read_csv(r'data\\EL_PROGRESO.csv', keep_default_na=True)\n",
    "ESCUINTLA = pd.read_csv(r'data\\ESCUINTLA.csv', keep_default_na=True)\n",
    "GUATEMALA_BASICO = pd.read_csv(r'data\\GUATEMALA_BASICO.csv', keep_default_na=True)\n",
    "GUATEMALA_DIVERSIFICADO = pd.read_csv(r'data\\GUATEMALA_DIVERSIFICADO.csv', keep_default_na=True)\n",
    "GUATEMALA_PARVULOS = pd.read_csv(r'data\\GUATEMALA_PARVULOS.csv', keep_default_na=True)\n",
    "GUATEMALA_PREPRIMARIA_BILINGUE = pd.read_csv(r'data\\GUATEMALA_PREPRIMARIA_BILINGUE.csv', keep_default_na=True)\n",
    "GUATEMALA_PRIMARIA = pd.read_csv(r'data\\GUATEMALA_PRIMARIA.csv', keep_default_na=True)\n",
    "GUATEMALA_PRIMARIA_ADULTOS = pd.read_csv(r'data\\GUATEMALA_PRIMARIA_ADULTOS.csv', keep_default_na=True)\n",
    "HUEHUETENANGO = pd.read_csv(r'data\\HUEHUETENANGO.csv', keep_default_na=True)\n",
    "IZABAL = pd.read_csv(r'data\\IZABAL.csv', keep_default_na=True)\n",
    "JALAPA = pd.read_csv(r'data\\JALAPA.csv', keep_default_na=True)\n",
    "JUTIAPA = pd.read_csv(r'data\\JUTIAPA.csv', keep_default_na=True)\n",
    "PETEN = pd.read_csv(r'data\\PETEN.csv', keep_default_na=True)\n",
    "QUETZALTENANGO = pd.read_csv(r'data\\QUETZALTENANGO.csv', keep_default_na=True)\n",
    "QUICHE = pd.read_csv(r'data\\QUICHE.csv', keep_default_na=True)\n",
    "RETALHULEU = pd.read_csv(r'data\\RETALHULEU.csv', keep_default_na=True)\n",
    "SACATEPEQUEZ = pd.read_csv(r'data\\SACATEPEQUEZ.csv', keep_default_na=True)\n",
    "SAN_MARCOS = pd.read_csv(r'data\\SAN_MARCOS.csv', keep_default_na=True)\n",
    "SANTA_ROSA = pd.read_csv(r'data\\SANTA_ROSA.csv', keep_default_na=True)\n",
    "SOLOLA = pd.read_csv(r'data\\SOLOLA.csv', keep_default_na=True)\n",
    "SUCHITEPEQUEZ = pd.read_csv(r'data\\SUCHITEPEQUEZ.csv', keep_default_na=True)\n",
    "TOTONICAPAN = pd.read_csv(r'data\\TOTONICAPAN.csv', keep_default_na=True)\n",
    "ZACAPA = pd.read_csv(r'data\\ZACAPA.csv', keep_default_na=True)"
   ]
  },
  {
   "cell_type": "code",
   "execution_count": 32,
   "id": "7f8b4b7f",
   "metadata": {},
   "outputs": [],
   "source": [
    "dataFrame = pd.concat([ALTA_VERAPAZ, BAJA_VERAPAZ, CHIMALTENANGO, CHIQUIMULA, \n",
    "                       CUIDAD_CAPITAL, EL_PROGRESO, ESCUINTLA, GUATEMALA_BASICO, \n",
    "                       GUATEMALA_DIVERSIFICADO, GUATEMALA_PARVULOS, \n",
    "                       GUATEMALA_PREPRIMARIA_BILINGUE, GUATEMALA_PRIMARIA, \n",
    "                       GUATEMALA_PRIMARIA_ADULTOS, HUEHUETENANGO, IZABAL, JALAPA, \n",
    "                       JUTIAPA, PETEN, QUETZALTENANGO, QUICHE, RETALHULEU, SACATEPEQUEZ, \n",
    "                       SAN_MARCOS, SANTA_ROSA, SOLOLA, SUCHITEPEQUEZ, TOTONICAPAN, ZACAPA])"
   ]
  },
  {
   "cell_type": "markdown",
   "id": "3bed85f7",
   "metadata": {},
   "source": [
    "Data Frame:"
   ]
  },
  {
   "cell_type": "code",
   "execution_count": 33,
   "id": "ac87036c",
   "metadata": {},
   "outputs": [
    {
     "data": {
      "text/html": [
       "<div>\n",
       "<style scoped>\n",
       "    .dataframe tbody tr th:only-of-type {\n",
       "        vertical-align: middle;\n",
       "    }\n",
       "\n",
       "    .dataframe tbody tr th {\n",
       "        vertical-align: top;\n",
       "    }\n",
       "\n",
       "    .dataframe thead th {\n",
       "        text-align: right;\n",
       "    }\n",
       "</style>\n",
       "<table border=\"1\" class=\"dataframe\">\n",
       "  <thead>\n",
       "    <tr style=\"text-align: right;\">\n",
       "      <th></th>\n",
       "      <th>CODIGO</th>\n",
       "      <th>DISTRITO</th>\n",
       "      <th>DEPARTAMENTO</th>\n",
       "      <th>MUNICIPIO</th>\n",
       "      <th>ESTABLECIMIENTO</th>\n",
       "      <th>DIRECCION</th>\n",
       "      <th>TELEFONO</th>\n",
       "      <th>SUPERVISOR</th>\n",
       "      <th>DIRECTOR</th>\n",
       "      <th>NIVEL</th>\n",
       "      <th>SECTOR</th>\n",
       "      <th>AREA</th>\n",
       "      <th>STATUS</th>\n",
       "      <th>MODALIDAD</th>\n",
       "      <th>JORNADA</th>\n",
       "      <th>PLAN</th>\n",
       "      <th>DEPARTAMENTAL</th>\n",
       "    </tr>\n",
       "  </thead>\n",
       "  <tbody>\n",
       "    <tr>\n",
       "      <th>0</th>\n",
       "      <td>16-01-0001-41</td>\n",
       "      <td>16-002</td>\n",
       "      <td>ALTA VERAPAZ</td>\n",
       "      <td>COBAN</td>\n",
       "      <td>COPB ANEXO A EORM</td>\n",
       "      <td>ALDEA SAN PEDRITO</td>\n",
       "      <td>NaN</td>\n",
       "      <td>MOISES ADRIAN LOPEZ PEREZ</td>\n",
       "      <td>NaN</td>\n",
       "      <td>PREPRIMARIA BILINGUE</td>\n",
       "      <td>OFICIAL</td>\n",
       "      <td>RURAL</td>\n",
       "      <td>CERRADA TEMPORALMENTE</td>\n",
       "      <td>BILINGUE</td>\n",
       "      <td>MATUTINA</td>\n",
       "      <td>DIARIO(REGULAR)</td>\n",
       "      <td>ALTA VERAPAZ</td>\n",
       "    </tr>\n",
       "    <tr>\n",
       "      <th>1</th>\n",
       "      <td>16-01-0002-41</td>\n",
       "      <td>16-004</td>\n",
       "      <td>ALTA VERAPAZ</td>\n",
       "      <td>COBAN</td>\n",
       "      <td>COPB ANEXO A EORM</td>\n",
       "      <td>ALDEA SAN JOSE ICBOLAY</td>\n",
       "      <td>NaN</td>\n",
       "      <td>JUAN ANTONIO FIGUEROA CAAL</td>\n",
       "      <td>NaN</td>\n",
       "      <td>PREPRIMARIA BILINGUE</td>\n",
       "      <td>OFICIAL</td>\n",
       "      <td>RURAL</td>\n",
       "      <td>ABIERTA</td>\n",
       "      <td>BILINGUE</td>\n",
       "      <td>MATUTINA</td>\n",
       "      <td>DIARIO(REGULAR)</td>\n",
       "      <td>ALTA VERAPAZ</td>\n",
       "    </tr>\n",
       "    <tr>\n",
       "      <th>2</th>\n",
       "      <td>16-01-0003-41</td>\n",
       "      <td>16-004</td>\n",
       "      <td>ALTA VERAPAZ</td>\n",
       "      <td>COBAN</td>\n",
       "      <td>COPB ANEXO A EORM</td>\n",
       "      <td>ALDEA SANTA LUCIA</td>\n",
       "      <td>NaN</td>\n",
       "      <td>JUAN ANTONIO FIGUEROA CAAL</td>\n",
       "      <td>NaN</td>\n",
       "      <td>PREPRIMARIA BILINGUE</td>\n",
       "      <td>OFICIAL</td>\n",
       "      <td>RURAL</td>\n",
       "      <td>ABIERTA</td>\n",
       "      <td>BILINGUE</td>\n",
       "      <td>MATUTINA</td>\n",
       "      <td>DIARIO(REGULAR)</td>\n",
       "      <td>ALTA VERAPAZ</td>\n",
       "    </tr>\n",
       "    <tr>\n",
       "      <th>3</th>\n",
       "      <td>16-01-0004-41</td>\n",
       "      <td>NaN</td>\n",
       "      <td>ALTA VERAPAZ</td>\n",
       "      <td>COBAN</td>\n",
       "      <td>CPPB ANEXA A EPRM</td>\n",
       "      <td>ALDEA LAS TORTUGAS</td>\n",
       "      <td>NaN</td>\n",
       "      <td>NaN</td>\n",
       "      <td>NaN</td>\n",
       "      <td>PREPRIMARIA BILINGUE</td>\n",
       "      <td>PRIVADO</td>\n",
       "      <td>RURAL</td>\n",
       "      <td>CERRADA TEMPORALMENTE</td>\n",
       "      <td>BILINGUE</td>\n",
       "      <td>MATUTINA</td>\n",
       "      <td>DIARIO(REGULAR)</td>\n",
       "      <td>ALTA VERAPAZ</td>\n",
       "    </tr>\n",
       "    <tr>\n",
       "      <th>4</th>\n",
       "      <td>16-01-0005-41</td>\n",
       "      <td>16-002</td>\n",
       "      <td>ALTA VERAPAZ</td>\n",
       "      <td>COBAN</td>\n",
       "      <td>COPB ANEXO A EORM</td>\n",
       "      <td>ALDEA SAN PABLO XUCANEB</td>\n",
       "      <td>45187639</td>\n",
       "      <td>MOISES ADRIAN LOPEZ PEREZ</td>\n",
       "      <td>NaN</td>\n",
       "      <td>PREPRIMARIA BILINGUE</td>\n",
       "      <td>OFICIAL</td>\n",
       "      <td>RURAL</td>\n",
       "      <td>ABIERTA</td>\n",
       "      <td>BILINGUE</td>\n",
       "      <td>MATUTINA</td>\n",
       "      <td>DIARIO(REGULAR)</td>\n",
       "      <td>ALTA VERAPAZ</td>\n",
       "    </tr>\n",
       "  </tbody>\n",
       "</table>\n",
       "</div>"
      ],
      "text/plain": [
       "          CODIGO DISTRITO  DEPARTAMENTO MUNICIPIO    ESTABLECIMIENTO  \\\n",
       "0  16-01-0001-41   16-002  ALTA VERAPAZ     COBAN  COPB ANEXO A EORM   \n",
       "1  16-01-0002-41   16-004  ALTA VERAPAZ     COBAN  COPB ANEXO A EORM   \n",
       "2  16-01-0003-41   16-004  ALTA VERAPAZ     COBAN  COPB ANEXO A EORM   \n",
       "3  16-01-0004-41      NaN  ALTA VERAPAZ     COBAN  CPPB ANEXA A EPRM   \n",
       "4  16-01-0005-41   16-002  ALTA VERAPAZ     COBAN  COPB ANEXO A EORM   \n",
       "\n",
       "                 DIRECCION  TELEFONO                  SUPERVISOR DIRECTOR  \\\n",
       "0        ALDEA SAN PEDRITO       NaN   MOISES ADRIAN LOPEZ PEREZ      NaN   \n",
       "1   ALDEA SAN JOSE ICBOLAY       NaN  JUAN ANTONIO FIGUEROA CAAL      NaN   \n",
       "2        ALDEA SANTA LUCIA       NaN  JUAN ANTONIO FIGUEROA CAAL      NaN   \n",
       "3       ALDEA LAS TORTUGAS       NaN                         NaN      NaN   \n",
       "4  ALDEA SAN PABLO XUCANEB  45187639   MOISES ADRIAN LOPEZ PEREZ      NaN   \n",
       "\n",
       "                  NIVEL   SECTOR   AREA                 STATUS MODALIDAD  \\\n",
       "0  PREPRIMARIA BILINGUE  OFICIAL  RURAL  CERRADA TEMPORALMENTE  BILINGUE   \n",
       "1  PREPRIMARIA BILINGUE  OFICIAL  RURAL                ABIERTA  BILINGUE   \n",
       "2  PREPRIMARIA BILINGUE  OFICIAL  RURAL                ABIERTA  BILINGUE   \n",
       "3  PREPRIMARIA BILINGUE  PRIVADO  RURAL  CERRADA TEMPORALMENTE  BILINGUE   \n",
       "4  PREPRIMARIA BILINGUE  OFICIAL  RURAL                ABIERTA  BILINGUE   \n",
       "\n",
       "    JORNADA             PLAN DEPARTAMENTAL  \n",
       "0  MATUTINA  DIARIO(REGULAR)  ALTA VERAPAZ  \n",
       "1  MATUTINA  DIARIO(REGULAR)  ALTA VERAPAZ  \n",
       "2  MATUTINA  DIARIO(REGULAR)  ALTA VERAPAZ  \n",
       "3  MATUTINA  DIARIO(REGULAR)  ALTA VERAPAZ  \n",
       "4  MATUTINA  DIARIO(REGULAR)  ALTA VERAPAZ  "
      ]
     },
     "execution_count": 33,
     "metadata": {},
     "output_type": "execute_result"
    }
   ],
   "source": [
    "dataFrame.head()"
   ]
  },
  {
   "cell_type": "markdown",
   "id": "5bc45da3",
   "metadata": {},
   "source": [
    "Información de las columnas:"
   ]
  },
  {
   "cell_type": "code",
   "execution_count": 34,
   "id": "578e07d7",
   "metadata": {},
   "outputs": [
    {
     "name": "stdout",
     "output_type": "stream",
     "text": [
      "<class 'pandas.core.frame.DataFrame'>\n",
      "Int64Index: 65079 entries, 0 to 1181\n",
      "Data columns (total 17 columns):\n",
      " #   Column           Non-Null Count  Dtype \n",
      "---  ------           --------------  ----- \n",
      " 0   CODIGO           64995 non-null  object\n",
      " 1   DISTRITO         61094 non-null  object\n",
      " 2   DEPARTAMENTO     64995 non-null  object\n",
      " 3   MUNICIPIO        64995 non-null  object\n",
      " 4   ESTABLECIMIENTO  64988 non-null  object\n",
      " 5   DIRECCION        64541 non-null  object\n",
      " 6   TELEFONO         47617 non-null  object\n",
      " 7   SUPERVISOR       61092 non-null  object\n",
      " 8   DIRECTOR         37535 non-null  object\n",
      " 9   NIVEL            64995 non-null  object\n",
      " 10  SECTOR           64995 non-null  object\n",
      " 11  AREA             64995 non-null  object\n",
      " 12  STATUS           64995 non-null  object\n",
      " 13  MODALIDAD        64995 non-null  object\n",
      " 14  JORNADA          64995 non-null  object\n",
      " 15  PLAN             64995 non-null  object\n",
      " 16  DEPARTAMENTAL    64995 non-null  object\n",
      "dtypes: object(17)\n",
      "memory usage: 8.9+ MB\n"
     ]
    }
   ],
   "source": [
    "dataFrame.info()"
   ]
  },
  {
   "cell_type": "markdown",
   "id": "709031fe",
   "metadata": {},
   "source": [
    "Cantidad de Nan:"
   ]
  },
  {
   "cell_type": "code",
   "execution_count": 35,
   "id": "bc411930",
   "metadata": {},
   "outputs": [
    {
     "data": {
      "text/plain": [
       "CODIGO                84\n",
       "DISTRITO            3985\n",
       "DEPARTAMENTO          84\n",
       "MUNICIPIO             84\n",
       "ESTABLECIMIENTO       91\n",
       "DIRECCION            538\n",
       "TELEFONO           17462\n",
       "SUPERVISOR          3987\n",
       "DIRECTOR           27544\n",
       "NIVEL                 84\n",
       "SECTOR                84\n",
       "AREA                  84\n",
       "STATUS                84\n",
       "MODALIDAD             84\n",
       "JORNADA               84\n",
       "PLAN                  84\n",
       "DEPARTAMENTAL         84\n",
       "dtype: int64"
      ]
     },
     "execution_count": 35,
     "metadata": {},
     "output_type": "execute_result"
    }
   ],
   "source": [
    "dataFrame.isna().sum()"
   ]
  }
 ],
 "metadata": {
  "kernelspec": {
   "display_name": "Python 3 (ipykernel)",
   "language": "python",
   "name": "python3"
  },
  "language_info": {
   "codemirror_mode": {
    "name": "ipython",
    "version": 3
   },
   "file_extension": ".py",
   "mimetype": "text/x-python",
   "name": "python",
   "nbconvert_exporter": "python",
   "pygments_lexer": "ipython3",
   "version": "3.9.6"
  }
 },
 "nbformat": 4,
 "nbformat_minor": 5
}
